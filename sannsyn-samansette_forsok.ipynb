{
 "cells": [
  {
   "cell_type": "markdown",
   "metadata": {},
   "source": [
    "# Samansette forsøk - choice\n",
    "\n",
    "No skal me sjå på korleis me kan simulera eit enkelt samansett forsøk. Oppgåva me skal sjå på er denne:\n",
    "\n",
    "> I ei skål ligg det 7 banan-twist og 3 daim-twist. Kva er sannsynet for at me får banan når me trekk ut to bitar frå skåla. (Både med og utan tilbakelegging)\n",
    "\n",
    "## Teoretisk sannsyn\n",
    "\n",
    "Først kan me sjå på kva det teoretiske sannsynet er for desse to. Ofte når me bruker simulering er det fordi det er vanskeleg å finna svaret ved rekning, men i dette dømet er det ikkje så vanskeleg. \n",
    "\n",
    "**Med tilbakelegging**\n",
    "\n",
    "$$\n",
    "P(\\text{BB}) = \\frac{7}{10} \\cdot \\frac{7}{10} = \\frac{49}{100} = 0.490\n",
    "$$\n",
    "\n",
    "**Utan tilbekelegging**\n",
    "$$\n",
    "P(\\text{BB}) = \\frac{7}{10} \\cdot \\frac{6}{9} = \\frac{42}{90} \\approx 0.467\n",
    "$$\n",
    "\n",
    "## Simulering av twist-trekket"
   ]
  },
  {
   "cell_type": "code",
   "execution_count": 1,
   "metadata": {},
   "outputs": [
    {
     "name": "stdout",
     "output_type": "stream",
     "text": [
      "['Banan', 'Banan', 'Banan', 'Banan', 'Banan', 'Banan', 'Banan', 'Daim', 'Daim', 'Daim']\n"
     ]
    }
   ],
   "source": [
    "# importerar og lagar ein random generator\n",
    "from numpy.random import default_rng\n",
    "rng = default_rng()\n",
    "\n",
    "# antall simuleringar\n",
    "N = 1000000\n",
    "\n",
    "# lagar liste med twistskåla\n",
    "twistskål = [\"Banan\"]*7 + [\"Daim\"]*3\n",
    "\n",
    "# skriv ut twistskåla\n",
    "print(twistskål)"
   ]
  },
  {
   "cell_type": "markdown",
   "metadata": {},
   "source": [
    "### Med tilbakelegging"
   ]
  },
  {
   "cell_type": "code",
   "execution_count": 2,
   "metadata": {},
   "outputs": [
    {
     "name": "stdout",
     "output_type": "stream",
     "text": [
      "Sannsynet for at me trekk to banantwist er 0.489409\n"
     ]
    }
   ],
   "source": [
    "BB = 0\n",
    "\n",
    "for i in range(N):\n",
    "    twist = rng.choice(twistskål, size = 2)\n",
    "    if twist[0] == \"Banan\" and twist[1] == \"Banan\":\n",
    "        BB += 1\n",
    "\n",
    "rel_frek = BB/N\n",
    "\n",
    "print(f\"Sannsynet for at me trekk to banantwist er {rel_frek}\")"
   ]
  },
  {
   "cell_type": "markdown",
   "metadata": {},
   "source": [
    ":::{.callout-tip} \n",
    "## Tips\n",
    "\n",
    "For ein litt meir elegant kode *kan* me droppa if-setningen i løkka vår. \n",
    "Dette kan me gjera ved å gjera ein boolsk variabel (`True` eller `False`) om til eit heiltal. Då blir `True = 1` og `False = 0`\n"
   ]
  },
  {
   "cell_type": "code",
   "execution_count": 3,
   "metadata": {},
   "outputs": [
    {
     "name": "stdout",
     "output_type": "stream",
     "text": [
      "Sannsynet for at me trekk to banantwist er 0.489524\n"
     ]
    }
   ],
   "source": [
    "BB = 0\n",
    "\n",
    "for i in range(N):\n",
    "    twist = rng.choice(twistskål, size = 2)\n",
    "    BB += int(twist[0] == \"Banan\" and twist[1] == \"Banan\")\n",
    "\n",
    "rel_frek = BB/N\n",
    "\n",
    "print(f\"Sannsynet for at me trekk to banantwist er {rel_frek}\")"
   ]
  },
  {
   "cell_type": "markdown",
   "metadata": {},
   "source": [
    ":::"
   ]
  },
  {
   "cell_type": "markdown",
   "metadata": {},
   "source": [
    "Me kan sjå kor langt unna den teoretiske verdien me kjem:"
   ]
  },
  {
   "cell_type": "code",
   "execution_count": 4,
   "metadata": {},
   "outputs": [
    {
     "name": "stdout",
     "output_type": "stream",
     "text": [
      "Feilen blir 0.000476 når me gjer 1000000 simuleringar\n"
     ]
    }
   ],
   "source": [
    "feil = abs(rel_frek - 49/100) \n",
    "print(f\"Feilen blir {round(feil, 6)} når me gjer {N} simuleringar\")"
   ]
  },
  {
   "cell_type": "markdown",
   "metadata": {},
   "source": [
    "Dersom me vil ha eit enno meir nøyaktig resultat kan me gjera fleire simuleringar, dette kjem me litt attende til seinare. Merk at programmet vil fort ta ganske lang tid å køyra etter kvart som talet på simuleringar aukar. "
   ]
  },
  {
   "cell_type": "markdown",
   "metadata": {},
   "source": [
    "### Utan tilbakelegging\n",
    "\n",
    "Forskjellen blir ikkje stor her. Det einaste me gjer er å legga til `replace = False` som argument i `choice`-funksjonen"
   ]
  },
  {
   "cell_type": "code",
   "execution_count": 5,
   "metadata": {},
   "outputs": [
    {
     "name": "stdout",
     "output_type": "stream",
     "text": [
      "Sannsynet for at me trekk to banantwist er 0.466383\n"
     ]
    }
   ],
   "source": [
    "BB = 0\n",
    "\n",
    "for i in range(N):\n",
    "    twist = rng.choice(twistskål, size = 2, replace = False)\n",
    "    if twist[0] == \"Banan\" and twist[1] == \"Banan\":\n",
    "        BB += 1\n",
    "\n",
    "rel_frek = BB/N\n",
    "\n",
    "print(f\"Sannsynet for at me trekk to banantwist er {rel_frek}\")"
   ]
  },
  {
   "cell_type": "code",
   "execution_count": 6,
   "metadata": {},
   "outputs": [
    {
     "name": "stdout",
     "output_type": "stream",
     "text": [
      "Feilen blir 0.000284 når me gjer 1000000 simuleringar\n"
     ]
    }
   ],
   "source": [
    "feil = abs(rel_frek - 42/90) \n",
    "print(f\"Feilen blir {round(feil, 6)} når me gjer {N} simuleringar\")"
   ]
  },
  {
   "cell_type": "markdown",
   "metadata": {},
   "source": [
    "## Ikkje uniforme sannsynsmodellar\n",
    "\n",
    "Dette dømet me har sett på er eit døme på ein ikkje-uniform sannsynsmodell, sidan sannsynet for Banan og Daim ikkje er det same. I starten laga me ei liste med alle twistane i skåla. I dette dømet er det praktisk, sidan me har eit lite utfallsrom (banan og daim) og kontroll på kor mange det er av kvar. \n",
    "\n",
    "Av og til kan det vera nyttig å definera ikkje-uniforme sannsynsmodellar på ein litt anna måte. "
   ]
  },
  {
   "cell_type": "code",
   "execution_count": 7,
   "metadata": {},
   "outputs": [
    {
     "name": "stdout",
     "output_type": "stream",
     "text": [
      "Me trekk ['Banan' 'Daim']\n"
     ]
    }
   ],
   "source": [
    "twistar = [\"Banan\", \"Daim\"]\n",
    "sannsyn = [7/10, 3/10]\n",
    "\n",
    "to_twist = rng.choice(twistar, size = 2, p = sannsyn)\n",
    "\n",
    "print(f\"Me trekk {to_twist}\")"
   ]
  },
  {
   "cell_type": "markdown",
   "metadata": {},
   "source": [
    "Dette kan brukast viss me veit utfallsrommet og sannsynet for kvart av utfalla, ikkje nødvendigvis antallet. F.eks. blodtype hos tilfeldige personar i befolkningen. "
   ]
  },
  {
   "cell_type": "code",
   "execution_count": null,
   "metadata": {},
   "outputs": [],
   "source": []
  }
 ],
 "metadata": {
  "interpreter": {
   "hash": "40d3a090f54c6569ab1632332b64b2c03c39dcf918b08424e98f38b5ae0af88f"
  },
  "kernelspec": {
   "display_name": "Python 3 (ipykernel)",
   "language": "python",
   "name": "python3"
  },
  "language_info": {
   "codemirror_mode": {
    "name": "ipython",
    "version": 3
   },
   "file_extension": ".py",
   "mimetype": "text/x-python",
   "name": "python",
   "nbconvert_exporter": "python",
   "pygments_lexer": "ipython3",
   "version": "3.11.4"
  },
  "vscode": {
   "interpreter": {
    "hash": "034280a56507a596863b38a111dd31b1ed4d03eb6644e1297ef960ca85732ce5"
   }
  }
 },
 "nbformat": 4,
 "nbformat_minor": 4
}
