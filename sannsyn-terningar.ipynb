{
 "cells": [
  {
   "attachments": {},
   "cell_type": "markdown",
   "metadata": {},
   "source": [
    "# Terningar og intro til simulering\n",
    "\n",
    "Ein fin stad å starta med simulering er med terningar :game_die: Her er sannsynet *uniformt* (det er like sannsynleg å få 2 som 5), og dei ulike utfalla er heiltal. \n",
    "\n",
    "Det første som må gjerast er å gjera i stand \"trekkaren\" vår. Eg bruker her ein tilfeldighetsgenerator frå `NumPy` (dokumentasjon [her](https://numpy.org/doc/stable/reference/random/index.html?highlight=random#module-numpy.random)). "
   ]
  },
  {
   "cell_type": "code",
   "execution_count": 2,
   "metadata": {},
   "outputs": [],
   "source": [
    "import numpy as np\n",
    "rng = np.random.default_rng()"
   ]
  },
  {
   "attachments": {},
   "cell_type": "markdown",
   "metadata": {},
   "source": [
    "Når me no har klargjort generatoren kan me bruka den innebygde `integers`-funksjonen for å trilla ein terning. \n",
    "\n",
    ":::{.callout-important}\n",
    "## Merk\n",
    "\n",
    "Dei to linjene med kode over **må** vera med i programmet for at det skal funka. I mange av døma i boka er ikkje desse to linjene med i alle kodesnuttane. \n",
    "\n",
    ":::"
   ]
  },
  {
   "attachments": {},
   "cell_type": "markdown",
   "metadata": {},
   "source": [
    "## Ein terning :game_die:"
   ]
  },
  {
   "cell_type": "code",
   "execution_count": 3,
   "metadata": {},
   "outputs": [
    {
     "name": "stdout",
     "output_type": "stream",
     "text": [
      "6\n"
     ]
    }
   ],
   "source": [
    "terning = rng.integers(1, 7)\n",
    "print(terning)"
   ]
  },
  {
   "attachments": {},
   "cell_type": "markdown",
   "metadata": {},
   "source": [
    "::: {.callout-important}\n",
    "## Merk\n",
    "\n",
    "Her er verdien `terning` eit heiltal (*integer*) **større eller lik** 1 og **mindre enn** 7. <br>Sidan det er heiltal me trekk er dermed $$\\text{terning} \\in \\{1, 2, 3, 4, 5, 6\\}$$\n",
    ":::\n",
    "\n",
    "For å trilla fleire terningar kan me anten bruka løkker:"
   ]
  },
  {
   "cell_type": "code",
   "execution_count": 4,
   "metadata": {},
   "outputs": [
    {
     "name": "stdout",
     "output_type": "stream",
     "text": [
      "3\n",
      "4\n",
      "1\n",
      "6\n",
      "5\n",
      "2\n",
      "1\n",
      "5\n",
      "1\n",
      "5\n"
     ]
    }
   ],
   "source": [
    "for i in range(10):\n",
    "    print(rng.integers(1, 7))"
   ]
  },
  {
   "attachments": {},
   "cell_type": "markdown",
   "metadata": {},
   "source": [
    "eller så kan me legga inn eit argument `size` i `integers`. Då blir output ein array (ein form for liste) med `size` terningar:"
   ]
  },
  {
   "cell_type": "code",
   "execution_count": 5,
   "metadata": {},
   "outputs": [
    {
     "name": "stdout",
     "output_type": "stream",
     "text": [
      "[2 3 4 6 1 1 1 1 6 6]\n"
     ]
    }
   ],
   "source": [
    "terningar = rng.integers(1, 7, size=10)\n",
    "print(terningar)"
   ]
  },
  {
   "attachments": {},
   "cell_type": "markdown",
   "metadata": {},
   "source": [
    "No har me det me treng for å kunna simulera eit stokastisk forsøk og estimera sannsyn ut frå simuleringa. Til dømes kan me prøva å finna ut av kor sannunleg det er å trilla 5 eller 6 på ein terning: "
   ]
  },
  {
   "cell_type": "code",
   "execution_count": 7,
   "metadata": {},
   "outputs": [
    {
     "name": "stdout",
     "output_type": "stream",
     "text": [
      "Sannsynet for 5 eller 6 er 0.3336\n"
     ]
    }
   ],
   "source": [
    "N = 1000000 # tal simuleringar\n",
    "\n",
    "terningar = rng.integers(1, 7, size=N)\n",
    "\n",
    "gunstige = sum(terningar >= 5)\n",
    "\n",
    "sannsyn = gunstige / N\n",
    "\n",
    "print(f\"Sannsynet for 5 eller 6 er {sannsyn:.4f}\")"
   ]
  },
  {
   "attachments": {},
   "cell_type": "markdown",
   "metadata": {},
   "source": [
    "::: {.callout-tip collapse=\"true\"}\n",
    "## Forklaring: `gunstige = sum(terningar >= 5)`\n",
    "\n",
    "For å forstå denne ser me på eit døme:"
   ]
  },
  {
   "cell_type": "code",
   "execution_count": 11,
   "metadata": {},
   "outputs": [
    {
     "name": "stdout",
     "output_type": "stream",
     "text": [
      "[1 2 3 4 5 6]\n",
      "[False False False  True  True  True]\n",
      "3\n"
     ]
    }
   ],
   "source": [
    "array = np.array([1, 2, 3, 4, 5, 6])\n",
    "\n",
    "større_enn_3 = array > 3\n",
    "\n",
    "print(array)\n",
    "print(større_enn_3)\n",
    "print(sum(større_enn_3))"
   ]
  },
  {
   "attachments": {},
   "cell_type": "markdown",
   "metadata": {},
   "source": [
    "Altså gjer me om verdiar til `True` eller `False`. Python reknar `True` som 1 og `False` som 0. Når me då summerer alle elementa i `array` får me antall `True` i arrayen. \n",
    ":::"
   ]
  },
  {
   "attachments": {},
   "cell_type": "markdown",
   "metadata": {},
   "source": [
    "## Fleire terningar :game_die: :game_die:\n",
    "\n",
    "Spørsmål som “Kva er sannsynet for at produktet av to terningar er 8 eller mindre” er fint å finna svar på ved hjelp av simulering:"
   ]
  },
  {
   "cell_type": "code",
   "execution_count": 12,
   "metadata": {},
   "outputs": [
    {
     "name": "stdout",
     "output_type": "stream",
     "text": [
      "Sannsynet er 0.4452\n"
     ]
    }
   ],
   "source": [
    "N = 1000000\n",
    "\n",
    "terning1 = rng.integers(1, 7, size=N)\n",
    "terning2 = rng.integers(1, 7, size=N)\n",
    "\n",
    "produkt = terning1 * terning2\n",
    "gunstige = sum(produkt <= 8)\n",
    "sannsyn = gunstige / N\n",
    "\n",
    "print(f\"Sannsynet er {sannsyn:.4f}\")"
   ]
  },
  {
   "attachments": {},
   "cell_type": "markdown",
   "metadata": {},
   "source": [
    "::: {.callout-tip collapse=\"true\"}\n",
    "## Forklaring: `produkt = terning1 * terning2`\n",
    "\n",
    "Kodelinja finn produktet av element på samme plass i dei to arrayane. Sjekk dømet: "
   ]
  },
  {
   "cell_type": "code",
   "execution_count": 13,
   "metadata": {},
   "outputs": [
    {
     "name": "stdout",
     "output_type": "stream",
     "text": [
      "[ 6 14 24 36 50]\n"
     ]
    }
   ],
   "source": [
    "a = np.array([1, 2, 3, 4, 5])\n",
    "b = np.array([6, 7, 8, 9, 10])\n",
    "\n",
    "c = a * b\n",
    "\n",
    "print(c)"
   ]
  },
  {
   "attachments": {},
   "cell_type": "markdown",
   "metadata": {},
   "source": [
    "$1\\cdot 6 = 6$ og $2\\cdot 7 = 14$...\n",
    ":::"
   ]
  },
  {
   "attachments": {},
   "cell_type": "markdown",
   "metadata": {},
   "source": [
    "## Nøyaktighet :dart:\n",
    "\n",
    "Sjekkar kva som skjer når me triller fleire og fleire terningar (eller ein terning fleire gongar). For å visa samanhengen plottar me resultatet. I dømet ser me på sannsynet for å trilla 4 på ein terning."
   ]
  },
  {
   "cell_type": "code",
   "execution_count": 14,
   "metadata": {},
   "outputs": [
    {
     "data": {
      "image/png": "[encoded data removed]",
      "text/plain": [
       "<Figure size 1000x500 with 1 Axes>"
      ]
     },
     "metadata": {},
     "output_type": "display_data"
    }
   ],
   "source": [
    "#| code-line-numbers: true\n",
    "import matplotlib.pyplot as plt\n",
    "\n",
    "# antall kast\n",
    "N = 10000000\n",
    "\n",
    "# triller terningar\n",
    "terningar = rng.integers(1, 7, size=N)\n",
    "\n",
    "# finn den kumulative summen av terningar som er lik 4\n",
    "kumulativ_sum = np.cumsum(terningar == 4)\n",
    "\n",
    "# lager \"x-akse\" frå 1 til N\n",
    "x = np.arange(1, N + 1)\n",
    "\n",
    "# finn relativ frekvens\n",
    "rel_frekvens = kumulativ_sum / x\n",
    "\n",
    "plt.figure(figsize=(10, 5))                      # lagar ein figur med 10x5 mål\n",
    "plt.hlines(1/6, 0, N, color=\"red\")               # teiknar ein linje med farge \"red\" for den teoretiske verdien\n",
    "plt.plot(x, rel_frekvens)                        # plottar x-akse og y-akse    \n",
    "plt.xscale(\"log\")                                # logaritmisk x-akse\n",
    "plt.xlabel(\"Antall kast \\n merk: log. skala\")    # namn på x-aksen\n",
    "plt.ylabel(\"Relativ frekvens\")                   # namn på y-aksen\n",
    "plt.title(\"Relativ frekvens for terningar\")      # tittel på figur\n",
    "plt.show()"
   ]
  },
  {
   "attachments": {},
   "cell_type": "markdown",
   "metadata": {},
   "source": [
    "Her ser me at di fleire kast me gjennomfører, di nærare kjem den relative frekvensen den teoretiske verdien for å trilla ein firar på vanleg terning.\n",
    "\n",
    " \n",
    "$$ P(\\text{firar}) = \\frac{1}{6} \\approx 0.167 $$"
   ]
  },
  {
   "cell_type": "markdown",
   "metadata": {},
   "source": []
  }
 ],
 "metadata": {
  "kernelspec": {
   "display_name": "Python 3 (ipykernel)",
   "language": "python",
   "name": "python3"
  },
  "language_info": {
   "codemirror_mode": {
    "name": "ipython",
    "version": 3
   },
   "file_extension": ".py",
   "mimetype": "text/x-python",
   "name": "python",
   "nbconvert_exporter": "python",
   "pygments_lexer": "ipython3",
   "version": "3.11.4"
  }
 },
 "nbformat": 4,
 "nbformat_minor": 4
}
