{
 "cells": [
  {
   "cell_type": "markdown",
   "metadata": {},
   "source": [
    "# Integrasjon\n",
    "\n",
    "## Approksimering av integral"
   ]
  },
  {
   "cell_type": "markdown",
   "metadata": {},
   "source": [
    "Det er fleire måtar me kan approksimera bestemte integral numerisk. I GeoGebra finn me funksjonane `SumUnder` og `SumOver` som gjev oss summen av arealet til $n$ rektangel mellom $a$ og $b$ på $x$-aksen. Rektangla er litt for store eller litt for små, som følgje av at den øverste sida ligg under eller over funksjonen. `SumUnder` vil dermed gje eit resultat som er litt mindre enn det faktiske resultatet, medan `SumOver` vil gje eit litt for stort resultat.\n",
    "\n",
    "Animasjonen under viser korleis nøyaktigheita til `SumUnder` aukar etter kvart som antall rektangel vert større. Med fleire rektangel vert arealet som ikkje vert dekka mindre og mindre.\n",
    "\n",
    "::: {.content-visible unless-format=\"pdf\"}\n",
    "![Animasjon av venstresum](img\\venstresum.gif){width=80% #fig-venstresum-anim}\n",
    "::: "
   ]
  },
  {
   "cell_type": "markdown",
   "metadata": {},
   "source": [
    "Den enklaste approksimasjonen er å finna venstre- eller høgresum. Med venstresum skal kvar av rektangla ha høgde slik at hjørnet øverst til venstre ligg på funksjonen. Høgresum finn me på same måte, men med hjørnet øverst til høgre på funksjonen. Algoritmen vert ganske lik for begge. Me ser på venstresum først."
   ]
  },
  {
   "cell_type": "markdown",
   "metadata": {},
   "source": [
    "### Venstresum\n",
    "\n",
    "Me skal finna summen av $n$ rektangel mellom $a$ og $b$ som er slik at hjørnet øverst til venstre på kvart rektangel ligg på funksjonen. Breidda til rektangla kallar me $dx$ ($\\Delta x$ på figuren).\n",
    "\n",
    "![Venstresum](img\\venstresum.png){width=80% #fig-venstrepng}\n"
   ]
  },
  {
   "cell_type": "code",
   "execution_count": 1,
   "metadata": {},
   "outputs": [],
   "source": [
    "def venstresum(f, a, b, n):\n",
    "    # finn bredden\n",
    "    dx = (b-a)/n\n",
    "\n",
    "    # startverdiar\n",
    "    x = a\n",
    "    sum_venstre = 0 \n",
    "\n",
    "    # finn arealet av kvart rektangel og legg arealet til totalen\n",
    "    for i in range(n):\n",
    "        rektangel = f(x)*dx\n",
    "        sum_venstre += rektangel\n",
    "        x += dx\n",
    "\n",
    "    # returnerer totalverdien\n",
    "    return sum_venstre"
   ]
  },
  {
   "cell_type": "markdown",
   "metadata": {},
   "source": [
    "Tester algoritmen på funksjonen $$f(x)=x^3+2x+3$$\n",
    "\n",
    "Prøver å finna ein omtrentleg verdi for arealet under $f(x)$ mellom $x=2$ og $x=5$. Prøver med $n=100$."
   ]
  },
  {
   "cell_type": "code",
   "execution_count": 2,
   "metadata": {},
   "outputs": [
    {
     "name": "stdout",
     "output_type": "stream",
     "text": [
      "Venstresum: 180.410\n"
     ]
    }
   ],
   "source": [
    "def f(x):\n",
    "    return x**3 + 2*x + 3\n",
    "\n",
    "\n",
    "print(f\"Venstresum: {venstresum(f, 2, 5, 100):.3f}\")"
   ]
  },
  {
   "cell_type": "markdown",
   "metadata": {},
   "source": [
    "### Høgresum\n",
    "\n",
    "Me skal finna summen av $n$ rektangel mellom $a$ og $b$ som er slik at hjørnet **øverst til høgre** på kvart rektangel ligg på funksjonen. Breidda til rektangla kallar me $dx$. Funksjonen er heilt lik som i `venstresum()` men me endrar `rektangel` til `f(x+dx)*dx` slik at me reknar høgda på høgresida av rektangelet. Sjå @fig-venstrepng"
   ]
  },
  {
   "cell_type": "code",
   "execution_count": 3,
   "metadata": {},
   "outputs": [],
   "source": [
    "def høgresum(f, a, b, n):\n",
    "    dx = (b-a)/n\n",
    "\n",
    "    x = a\n",
    "    sum_høgre = 0 \n",
    "\n",
    "    for i in range(n):\n",
    "        rektangel = f(x+dx)*dx\n",
    "        sum_høgre += rektangel\n",
    "        x += dx\n",
    "\n",
    "    return sum_høgre"
   ]
  },
  {
   "cell_type": "markdown",
   "metadata": {},
   "source": [
    "Testar på samme funksjon og intervall som tidlegare:"
   ]
  },
  {
   "cell_type": "code",
   "execution_count": 4,
   "metadata": {},
   "outputs": [
    {
     "name": "stdout",
     "output_type": "stream",
     "text": [
      "Høgresum: 184.100\n"
     ]
    }
   ],
   "source": [
    "print(f\"Høgresum: {høgresum(f, 2, 5, 100):.3f}\")"
   ]
  },
  {
   "cell_type": "markdown",
   "metadata": {},
   "source": [
    "Med det kan me anta at arealet ligg ein stad mellom 180,41 og 184,10. Med andre ord\n",
    "$$180.41 \\leq \\int_2^5 f(x)\\,dx \\leq 184.10$$"
   ]
  },
  {
   "cell_type": "markdown",
   "metadata": {},
   "source": [
    "Om me aukar talet på rektangel vil me få ein betre approksimasjon:"
   ]
  },
  {
   "cell_type": "code",
   "execution_count": 5,
   "metadata": {},
   "outputs": [
    {
     "name": "stdout",
     "output_type": "stream",
     "text": [
      "Venstresum: 182.066\n",
      "Høgresum: 182.435\n"
     ]
    }
   ],
   "source": [
    "print(f\"Venstresum: {venstresum(f, 2, 5, 1000):.3f}\")\n",
    "print(f\"Høgresum: {høgresum(f, 2, 5, 1000):.3f}\")"
   ]
  },
  {
   "cell_type": "markdown",
   "metadata": {},
   "source": [
    "### Sum under og sum over\n",
    "\n",
    "Me kan laga algoritmar som fungerer på same måte som GeoGebra sine tidlegare nemnde `SumUnder` og `SumOver`. Me tek utgangspunkt i samme algoritme som tidlegare, men no må me sjekka kva for ei av sidene som er kortast (for `SumUnder`) eller lengst (for `SumOver`).\n",
    "\n",
    "\n",
    "**Sum under** først:"
   ]
  },
  {
   "cell_type": "code",
   "execution_count": 6,
   "metadata": {},
   "outputs": [],
   "source": [
    "def sumunder(f, a, b, n):\n",
    "    dx = (b-a)/n\n",
    "\n",
    "    x = a\n",
    "    sum_under = 0 \n",
    "\n",
    "    # finn den kortaste sida og bruker den som høgde\n",
    "    for i in range(n):\n",
    "        if f(x) <= f(x+dx):\n",
    "            rektangel = f(x)*dx\n",
    "        else:\n",
    "            rektangel = f(x+dx)*dx\n",
    "\n",
    "        sum_under += rektangel\n",
    "        x += dx\n",
    "\n",
    "    return sum_under"
   ]
  },
  {
   "cell_type": "markdown",
   "metadata": {},
   "source": [
    "**Sum over** blir heilt anaalogt, men me snur ulikskapen:"
   ]
  },
  {
   "cell_type": "code",
   "execution_count": 7,
   "metadata": {},
   "outputs": [],
   "source": [
    "def sumover(f, a, b, n):\n",
    "    dx = (b-a)/n\n",
    "\n",
    "    x = a\n",
    "    sum_over = 0 \n",
    "\n",
    "    for i in range(n):\n",
    "        if f(x) >= f(x+dx):\n",
    "            rektangel = f(x)*dx\n",
    "        else:\n",
    "            rektangel = f(x+dx)*dx\n",
    "\n",
    "        sum_over += rektangel\n",
    "        x += dx\n",
    "\n",
    "    return sum_over"
   ]
  },
  {
   "cell_type": "markdown",
   "metadata": {},
   "source": [
    "Tester på funksjonen og intervallet frå tidlegare:"
   ]
  },
  {
   "cell_type": "code",
   "execution_count": 8,
   "metadata": {},
   "outputs": [
    {
     "name": "stdout",
     "output_type": "stream",
     "text": [
      "Sum under: 180.410\n",
      "Sum over: 184.100\n"
     ]
    }
   ],
   "source": [
    "print(f\"Sum under: {sumunder(f, 2, 5, 100):.3f}\")\n",
    "print(f\"Sum over: {sumover(f, 2, 5, 100):.3f}\")"
   ]
  },
  {
   "cell_type": "markdown",
   "metadata": {},
   "source": [
    "Kva for ein av desse som fungerer best vil avhenga av funksjonen. Tenk gjerne litt på kva type funksjonar dei ulike passar godt eller dårleg til."
   ]
  },
  {
   "cell_type": "markdown",
   "metadata": {},
   "source": [
    "### Trapesmetoden\n",
    "\n",
    "Ein veldig effektiv måte å approksimera arealet under grafen på er å laga trapes framfor rektangel. Høgda på trapeset vert `dx` medan dei to parallelle sidene vert `f(x)`og `f(x+dx)`. \n",
    "\n",
    "![Trapesmetoden](img\\trapes.png){width=80% #fig-trapes}"
   ]
  },
  {
   "cell_type": "code",
   "execution_count": 9,
   "metadata": {},
   "outputs": [
    {
     "name": "stdout",
     "output_type": "stream",
     "text": [
      "Trapesmetode: 182.255\n"
     ]
    }
   ],
   "source": [
    "def trapesmetoden(f, a, b, n):\n",
    "    dx = (b-a)/n\n",
    "\n",
    "    x = a\n",
    "    sum_trapes = 0 \n",
    "\n",
    "    for i in range(n):\n",
    "        trapes = ((f(x)+f(x+dx))*dx)/2\n",
    "        sum_trapes += trapes\n",
    "        x += dx\n",
    "\n",
    "    return sum_trapes\n",
    "\n",
    "# tester med n=100\n",
    "print(f\"Trapesmetode: {trapesmetoden(f, 2, 5, 100):.3f}\")"
   ]
  },
  {
   "cell_type": "markdown",
   "metadata": {},
   "source": [
    "Me reknar ut det bestemte integralet\n",
    "$$\\int_2^5 x^3 +2x +3 \\, dx = \\frac{729}{4} = 182.25$$\n",
    "\n",
    "Her ser me at me kjem nærare svaret med 100 trapes enn med 1000 rektangel, så trapesmetoden er mykje meir nøyaktig.  "
   ]
  },
  {
   "cell_type": "markdown",
   "metadata": {},
   "source": [
    "## Symbolsk integrasjon med `SymPy`\n",
    "\n",
    "(her kjem litt om korleis ein kan integrera symbolsk med `sympy` / CAS i python)"
   ]
  },
  {
   "cell_type": "code",
   "execution_count": null,
   "metadata": {},
   "outputs": [],
   "source": []
  }
 ],
 "metadata": {
  "kernelspec": {
   "display_name": "blogg_env",
   "language": "python",
   "name": "python3"
  },
  "language_info": {
   "codemirror_mode": {
    "name": "ipython",
    "version": 3
   },
   "file_extension": ".py",
   "mimetype": "text/x-python",
   "name": "python",
   "nbconvert_exporter": "python",
   "pygments_lexer": "ipython3",
   "version": "3.11.6"
  },
  "orig_nbformat": 4
 },
 "nbformat": 4,
 "nbformat_minor": 2
}
