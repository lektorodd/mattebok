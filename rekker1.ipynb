{
 "cells": [
  {
   "cell_type": "markdown",
   "id": "54859973-379c-4536-aa9b-27ccde5b9172",
   "metadata": {},
   "source": [
    "# Rekker\n",
    "\n"
   ]
  },
  {
   "cell_type": "code",
   "execution_count": 1,
   "id": "a8cd7931-6971-44d4-a71a-a517fa74587e",
   "metadata": {},
   "outputs": [],
   "source": [
    "a = \"test\""
   ]
  },
  {
   "cell_type": "code",
   "execution_count": null,
   "id": "4ccbf7d4-c395-40b9-bb27-7bc7405b72bb",
   "metadata": {},
   "outputs": [],
   "source": []
  }
 ],
 "metadata": {
  "kernelspec": {
   "display_name": "Python 3 (ipykernel)",
   "language": "python",
   "name": "python3"
  },
  "language_info": {
   "codemirror_mode": {
    "name": "ipython",
    "version": 3
   },
   "file_extension": ".py",
   "mimetype": "text/x-python",
   "name": "python",
   "nbconvert_exporter": "python",
   "pygments_lexer": "ipython3",
   "version": "3.11.4"
  }
 },
 "nbformat": 4,
 "nbformat_minor": 5
}
