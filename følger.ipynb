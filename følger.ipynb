{
 "cells": [
  {
   "cell_type": "markdown",
   "id": "82274c26-1f4e-465a-9981-5ba48209436d",
   "metadata": {},
   "source": [
    "# Følger\n",
    "\n",
    "På førre side såg me eit kjapt døme på ei talfølgje, \n",
    "\n",
    "$$1, 2, 3, 4, 5, ...$$\n",
    "\n",
    "Av denne talfølgja ser me to ting. For det første er ho uendeleg, sidan det ikkje er definert nokon ende, berre \"...\". Me ser og at det er ein fast differanse mellom kvart av ledda. Talfølgjer med fast differanse mellom ledda kallar me *aritmetiske* talfølgjer. \n",
    "\n",
    "## Aritmetiske følger\n",
    "\n",
    "Eit anna døme på ei aritmetisk talfølgje er denne\n",
    "\n",
    "$$ 3, 7, 11, 15, ...$$\n",
    "\n",
    "Her ser me at det første leddet $a_1 = 3$ og at differansen $d=4$. \n",
    "\n",
    "At det er ein fast differanse mellom kvart av ledda betyr at om me skal finna eit ledd ($a_n$) så må me ta leddet før ($a_{n-1}$) og legga til differansen ($d$). Dermed får me\n",
    "\n",
    "$$a_{n} = a_{n-1} + d$$\n",
    "\n",
    "Frå dømet over ser me at det stemmer, $7 = 3 + 4$ og $11 = 7 + 4$ osb. \n",
    "\n",
    "### Rekursiv formel for ledd n\n",
    "\n",
    "Samanhengen over kan me nytta for å finna $a_n$ rekursivt. Rekursjon handlar om gjentaking, så tanken er at me kan gjenta formelen for å finna ledd $n$. Me kan laga ein funksjon som kun tek utgangspunkt i opplysningen om at $a_{n} = a_{n-1} + d$. \n"
   ]
  },
  {
   "cell_type": "code",
   "execution_count": 3,
   "id": "32760974-2017-4172-a084-a19bc5a495de",
   "metadata": {},
   "outputs": [
    {
     "ename": "RecursionError",
     "evalue": "maximum recursion depth exceeded",
     "output_type": "error",
     "traceback": [
      "\u001b[0;31m---------------------------------------------------------------------------\u001b[0m",
      "\u001b[0;31mRecursionError\u001b[0m                            Traceback (most recent call last)",
      "Cell \u001b[0;32mIn[3], line 6\u001b[0m\n\u001b[1;32m      3\u001b[0m \u001b[38;5;28;01mdef\u001b[39;00m \u001b[38;5;21ma\u001b[39m(n):\n\u001b[1;32m      4\u001b[0m     \u001b[38;5;28;01mreturn\u001b[39;00m a(n\u001b[38;5;241m-\u001b[39m\u001b[38;5;241m1\u001b[39m) \u001b[38;5;241m+\u001b[39m \u001b[38;5;241m4\u001b[39m\n\u001b[0;32m----> 6\u001b[0m \u001b[38;5;28mprint\u001b[39m(\u001b[43ma\u001b[49m\u001b[43m(\u001b[49m\u001b[38;5;241;43m4\u001b[39;49m\u001b[43m)\u001b[49m)\n",
      "Cell \u001b[0;32mIn[3], line 4\u001b[0m, in \u001b[0;36ma\u001b[0;34m(n)\u001b[0m\n\u001b[1;32m      3\u001b[0m \u001b[38;5;28;01mdef\u001b[39;00m \u001b[38;5;21ma\u001b[39m(n):\n\u001b[0;32m----> 4\u001b[0m     \u001b[38;5;28;01mreturn\u001b[39;00m \u001b[43ma\u001b[49m\u001b[43m(\u001b[49m\u001b[43mn\u001b[49m\u001b[38;5;241;43m-\u001b[39;49m\u001b[38;5;241;43m1\u001b[39;49m\u001b[43m)\u001b[49m \u001b[38;5;241m+\u001b[39m \u001b[38;5;241m4\u001b[39m\n",
      "Cell \u001b[0;32mIn[3], line 4\u001b[0m, in \u001b[0;36ma\u001b[0;34m(n)\u001b[0m\n\u001b[1;32m      3\u001b[0m \u001b[38;5;28;01mdef\u001b[39;00m \u001b[38;5;21ma\u001b[39m(n):\n\u001b[0;32m----> 4\u001b[0m     \u001b[38;5;28;01mreturn\u001b[39;00m \u001b[43ma\u001b[49m\u001b[43m(\u001b[49m\u001b[43mn\u001b[49m\u001b[38;5;241;43m-\u001b[39;49m\u001b[38;5;241;43m1\u001b[39;49m\u001b[43m)\u001b[49m \u001b[38;5;241m+\u001b[39m \u001b[38;5;241m4\u001b[39m\n",
      "    \u001b[0;31m[... skipping similar frames: a at line 4 (2970 times)]\u001b[0m\n",
      "Cell \u001b[0;32mIn[3], line 4\u001b[0m, in \u001b[0;36ma\u001b[0;34m(n)\u001b[0m\n\u001b[1;32m      3\u001b[0m \u001b[38;5;28;01mdef\u001b[39;00m \u001b[38;5;21ma\u001b[39m(n):\n\u001b[0;32m----> 4\u001b[0m     \u001b[38;5;28;01mreturn\u001b[39;00m \u001b[43ma\u001b[49m\u001b[43m(\u001b[49m\u001b[43mn\u001b[49m\u001b[38;5;241;43m-\u001b[39;49m\u001b[38;5;241;43m1\u001b[39;49m\u001b[43m)\u001b[49m \u001b[38;5;241m+\u001b[39m \u001b[38;5;241m4\u001b[39m\n",
      "\u001b[0;31mRecursionError\u001b[0m: maximum recursion depth exceeded"
     ]
    }
   ],
   "source": [
    "#| eval: false\n",
    "def a(n):\n",
    "    return a(n-1) + 4\n",
    "\n",
    "print(a(4))"
   ]
  },
  {
   "cell_type": "markdown",
   "id": "9123a266-b6a9-4c3b-8966-26030ae9f569",
   "metadata": {},
   "source": [
    "**Men** om du prøver å køyra denne koden vil du få ein feil: \n",
    "\n",
    "> `RecursionError: maximum recursion depth exceeded`\n",
    "\n",
    "Om du ser på koden, ser du kanskje kva som er problemet? \n",
    "\n",
    "Det let seg løysa om me definerer ein rekursjonsbotn (i dette tilfellet $a_1$). Me prøver på nytt: "
   ]
  },
  {
   "cell_type": "code",
   "execution_count": 4,
   "id": "43177234-246d-4cd8-be2a-3cc022818b73",
   "metadata": {},
   "outputs": [
    {
     "name": "stdout",
     "output_type": "stream",
     "text": [
      "15\n"
     ]
    }
   ],
   "source": [
    "def a(n):\n",
    "    if n == 1:\n",
    "        return 3\n",
    "    else: \n",
    "        return a(n-1) + 4\n",
    "\n",
    "print(a(4))"
   ]
  },
  {
   "cell_type": "markdown",
   "id": "1265c87f-4aa8-43e8-a98e-1d993c9f6197",
   "metadata": {},
   "source": [
    "Denne funksjonen kan me bruka for å t.d. skriva ut dei 10 første ledda i følgja:"
   ]
  },
  {
   "cell_type": "code",
   "execution_count": 5,
   "id": "cfd42ce7-ca21-4eac-8c35-ab25c9d40b96",
   "metadata": {},
   "outputs": [
    {
     "name": "stdout",
     "output_type": "stream",
     "text": [
      "3, 7, 11, 15, 19, 23, 27, 31, 35, 39, ...\n"
     ]
    }
   ],
   "source": [
    "for i in range(1, 11):\n",
    "    print(a(i), end = \", \")\n",
    "\n",
    "print(\"...\")"
   ]
  },
  {
   "cell_type": "markdown",
   "id": "0cb841f6-5d11-4568-bad3-16a7a7f63bef",
   "metadata": {},
   "source": [
    "Ulempen med denne rekursive funksjonen er at han må gjennom *alle* dei føregåande ledda for kvart ledd du bruker han for å finna. Så om du skal finna $a_1000$ vil formelen finna alle ledda før. Og på nytt når du ser etter $a_1001$... Det kan fort bli både tidkrevjande og tungvint, sjølv for datamaskina. "
   ]
  },
  {
   "cell_type": "markdown",
   "id": "ce016691-1ee4-4e9a-ae52-ba5cc2ab4e1d",
   "metadata": {},
   "source": [
    "### Eksplisitt formel for ledd n\n",
    "\n",
    "Me kan sjå om me finn ein eksplisitt måte å finna $a_n$ på (altså finna direkte, utan rekursjon). Me ser på dømet igjen. \n",
    "\n",
    "$$3, 7, 11, 15, ...$$\n",
    "\n",
    "Me ser at\n",
    "$$\n",
    "    \\begin{aligned}\n",
    "        a_2 &= 7 = 3 + 4 \\\\\n",
    "        a_3 &= 11 = 7 + 4 = 3 + 4 + 4 \\\\\n",
    "        a_4 &= 15 = 11 + 4 = 7 + 4 + 4 = 3 + 4 + 4 + 4\n",
    "    \\end{aligned}\n",
    "$$\n",
    "\n",
    "Altså er $$a_n = a_1 + (n-1)d$$\n",
    "som me kan programmera som "
   ]
  },
  {
   "cell_type": "code",
   "execution_count": 6,
   "id": "6295869e-bf2b-45ff-801a-e1d3e3c33e83",
   "metadata": {},
   "outputs": [
    {
     "name": "stdout",
     "output_type": "stream",
     "text": [
      "15\n"
     ]
    }
   ],
   "source": [
    "def a(n):\n",
    "    return 3 + (n-1)*4\n",
    "\n",
    "print(a(4))"
   ]
  },
  {
   "cell_type": "markdown",
   "id": "ec4828a2-21dd-4dfa-b070-82dc749b32eb",
   "metadata": {},
   "source": [
    "Og igjen kan me skriva ut dei ti første ledda:f"
   ]
  },
  {
   "cell_type": "code",
   "execution_count": 8,
   "id": "d3a9426f-2878-4f81-b1c7-2fe0b25ce2f5",
   "metadata": {},
   "outputs": [
    {
     "name": "stdout",
     "output_type": "stream",
     "text": [
      "3, 7, 11, 15, 19, 23, 27, 31, 35, 39, ...\n"
     ]
    }
   ],
   "source": [
    "for i in range(1, 11):\n",
    "    print(a(i), end=\", \")\n",
    "\n",
    "print(\"...\")"
   ]
  },
  {
   "cell_type": "code",
   "execution_count": null,
   "id": "0fe7e2ed-b422-423f-b560-9da1760c4e58",
   "metadata": {},
   "outputs": [],
   "source": []
  }
 ],
 "metadata": {
  "kernelspec": {
   "display_name": "Python 3 (ipykernel)",
   "language": "python",
   "name": "python3"
  },
  "language_info": {
   "codemirror_mode": {
    "name": "ipython",
    "version": 3
   },
   "file_extension": ".py",
   "mimetype": "text/x-python",
   "name": "python",
   "nbconvert_exporter": "python",
   "pygments_lexer": "ipython3",
   "version": "3.11.4"
  }
 },
 "nbformat": 4,
 "nbformat_minor": 5
}
