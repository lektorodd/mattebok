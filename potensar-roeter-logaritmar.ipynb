{
 "cells": [
  {
   "cell_type": "markdown",
   "metadata": {},
   "source": [
    "# Potensar, røter og logaritmar"
   ]
  },
  {
   "cell_type": "markdown",
   "metadata": {},
   "source": [
    "Ser litt på korleis ein kan rekne ut potensar, røter og logaritmar i Python."
   ]
  },
  {
   "cell_type": "markdown",
   "metadata": {},
   "source": [
    "## Potensar\n",
    "\n",
    "Potensar kan ein rekne ut med `**`-operatoren. For eksempel er $2^3$ i python `2**3`."
   ]
  },
  {
   "cell_type": "code",
   "execution_count": 1,
   "metadata": {},
   "outputs": [
    {
     "name": "stdout",
     "output_type": "stream",
     "text": [
      "8\n"
     ]
    }
   ],
   "source": [
    "print(2**3)"
   ]
  },
  {
   "cell_type": "markdown",
   "metadata": {},
   "source": [
    "Dette gjeld og for negative eksponentar, til dømes $2^{-3}$ "
   ]
  },
  {
   "cell_type": "code",
   "execution_count": 2,
   "metadata": {},
   "outputs": [
    {
     "name": "stdout",
     "output_type": "stream",
     "text": [
      "0.125\n"
     ]
    }
   ],
   "source": [
    "print(2**(-3))"
   ]
  },
  {
   "cell_type": "markdown",
   "metadata": {},
   "source": [
    "Og for eksponentar som er brøk (eller desimaltal), til dømes $100^{1/2}$"
   ]
  },
  {
   "cell_type": "code",
   "execution_count": 3,
   "metadata": {},
   "outputs": [
    {
     "name": "stdout",
     "output_type": "stream",
     "text": [
      "10.0\n",
      "10.0\n"
     ]
    }
   ],
   "source": [
    "print(100**(1/2))\n",
    "print(100**0.5)"
   ]
  },
  {
   "cell_type": "markdown",
   "metadata": {},
   "source": [
    "## Røter\n",
    "\n",
    "Ved å bruka potensar kan ein og rekne ut røter. Til dømes er $\\sqrt{100}$ det same som $100^{1/2}$. Meir generelt veit me at \n",
    "\n",
    "$$x^{\\frac{a}{n}} = \\sqrt[n]{x^a}$$\n",
    "\n",
    "Dermed kan me rekna ut til dømes $\\sqrt[3]{1000}$ som `1000**(1/3)`"
   ]
  },
  {
   "cell_type": "code",
   "execution_count": 4,
   "metadata": {},
   "outputs": [
    {
     "name": "stdout",
     "output_type": "stream",
     "text": [
      "9.999999999999998\n"
     ]
    }
   ],
   "source": [
    "print(1000**(1/3))"
   ]
  },
  {
   "cell_type": "markdown",
   "metadata": {},
   "source": [
    "Her ser me at `**`-operatoren ikkje reknar heilt rett. Svaret er 10, men Python gir oss 9.999999999999998. Dette er fordi Python ikkje klarar å representere alle desimaltal heilt nøyaktig."
   ]
  },
  {
   "cell_type": "markdown",
   "metadata": {},
   "source": [
    "For å unngå dette kan me bruka rot-funksjonar frå `numpy`-biblioteket. Då får me heilt nøyaktige svar.\n",
    "`np.sqrt()` reknar ut kvadratrøter og `np.cbrt()` reknar ut kubikkrøter."
   ]
  },
  {
   "cell_type": "code",
   "execution_count": 9,
   "metadata": {},
   "outputs": [
    {
     "name": "stdout",
     "output_type": "stream",
     "text": [
      "10.0\n",
      "1.7724538509055159\n"
     ]
    }
   ],
   "source": [
    "import numpy as np\n",
    "\n",
    "# tredjerota av 1000\n",
    "print(np.cbrt(1000))\n",
    "\n",
    "# kvadratrota av pi\n",
    "print(np.sqrt(np.pi))"
   ]
  },
  {
   "cell_type": "markdown",
   "metadata": {},
   "source": [
    "## Logaritmar\n",
    "\n",
    "Logaritmar kan ein rekne ut med `np.log()`-funksjonen. For eksempel er $\\log_{10}(100)$ lik `np.log10(100)`."
   ]
  },
  {
   "cell_type": "code",
   "execution_count": 11,
   "metadata": {},
   "outputs": [
    {
     "name": "stdout",
     "output_type": "stream",
     "text": [
      "2.0\n"
     ]
    }
   ],
   "source": [
    "print(np.log10(100))"
   ]
  },
  {
   "cell_type": "markdown",
   "metadata": {},
   "source": [
    "Medan `np.log()` reknar ut naturlige logaritmar, altså logaritmar med grunntal $e$. "
   ]
  },
  {
   "cell_type": "code",
   "execution_count": 12,
   "metadata": {},
   "outputs": [
    {
     "name": "stdout",
     "output_type": "stream",
     "text": [
      "4.605170185988092\n"
     ]
    }
   ],
   "source": [
    "print(np.log(100))"
   ]
  },
  {
   "cell_type": "markdown",
   "metadata": {},
   "source": [
    "Som vil seie at $e^{4.60517} \\approx 100$."
   ]
  },
  {
   "cell_type": "code",
   "execution_count": 13,
   "metadata": {},
   "outputs": [
    {
     "name": "stdout",
     "output_type": "stream",
     "text": [
      "99.99998140119261\n"
     ]
    }
   ],
   "source": [
    "print(np.exp(4.60517))"
   ]
  },
  {
   "cell_type": "markdown",
   "metadata": {},
   "source": [
    "⬆️ Her ser me også at $e^x$ kan skrivast som `np.exp(x)`."
   ]
  },
  {
   "cell_type": "markdown",
   "metadata": {},
   "source": [
    "## Røter og logaritmar - arrays\n",
    "\n",
    "I numpy treng ikkje input til desse funksjonane vera eit enkelt tal. Det kan og vera ein array/liste. Då vil funksjonen rekna ut røter og logaritmar for kvart element i arrayen/lista. Det kan vera praktisk om me skal rekna ut mange tal samtidig."
   ]
  },
  {
   "cell_type": "code",
   "execution_count": 14,
   "metadata": {},
   "outputs": [
    {
     "name": "stdout",
     "output_type": "stream",
     "text": [
      "[1. 2. 3. 4. 5.]\n"
     ]
    }
   ],
   "source": [
    "tal = [1, 4, 9, 16, 25]\n",
    "print(np.sqrt(tal))"
   ]
  },
  {
   "cell_type": "code",
   "execution_count": 18,
   "metadata": {},
   "outputs": [
    {
     "name": "stdout",
     "output_type": "stream",
     "text": [
      "[0. 1. 2. 3. 6.]\n"
     ]
    }
   ],
   "source": [
    "tal = [1, 10, 100, 1000, 1e6]\n",
    "print(np.log10(tal))"
   ]
  },
  {
   "cell_type": "markdown",
   "metadata": {},
   "source": [
    "⬆️ Legg merke til korleis me kan skriva tal på standardform her (`1e6` er det same som $10^6$)."
   ]
  },
  {
   "cell_type": "markdown",
   "metadata": {},
   "source": []
  }
 ],
 "metadata": {
  "kernelspec": {
   "display_name": "blogg_env",
   "language": "python",
   "name": "python3"
  },
  "language_info": {
   "codemirror_mode": {
    "name": "ipython",
    "version": 3
   },
   "file_extension": ".py",
   "mimetype": "text/x-python",
   "name": "python",
   "nbconvert_exporter": "python",
   "pygments_lexer": "ipython3",
   "version": "3.11.4"
  }
 },
 "nbformat": 4,
 "nbformat_minor": 2
}
